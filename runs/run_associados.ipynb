{
 "cells": [
  {
   "cell_type": "code",
   "execution_count": 1,
   "id": "6ec3943c",
   "metadata": {},
   "outputs": [
    {
     "name": "stdout",
     "output_type": "stream",
     "text": [
      "Requirement already satisfied: pandas in /home/mt/www/desafio_engenharia/src/lib/python3.9/site-packages (2.0.3)\n",
      "Requirement already satisfied: psycopg2 in /home/mt/www/desafio_engenharia/src/lib/python3.9/site-packages (2.9.9)\n",
      "Requirement already satisfied: numpy>=1.20.3 in /home/mt/www/desafio_engenharia/src/lib/python3.9/site-packages (from pandas) (1.25.2)\n",
      "Requirement already satisfied: tzdata>=2022.1 in /home/mt/www/desafio_engenharia/src/lib/python3.9/site-packages (from pandas) (2023.3)\n",
      "Requirement already satisfied: pytz>=2020.1 in /home/mt/www/desafio_engenharia/src/lib/python3.9/site-packages (from pandas) (2023.3)\n",
      "Requirement already satisfied: python-dateutil>=2.8.2 in /home/mt/www/desafio_engenharia/src/lib/python3.9/site-packages (from pandas) (2.8.2)\n",
      "Requirement already satisfied: six>=1.5 in /home/mt/www/desafio_engenharia/src/lib/python3.9/site-packages (from python-dateutil>=2.8.2->pandas) (1.16.0)\n",
      "Note: you may need to restart the kernel to use updated packages.\n"
     ]
    }
   ],
   "source": [
    "%pip install pandas psycopg2"
   ]
  },
  {
   "cell_type": "code",
   "execution_count": 2,
   "id": "4968e76c",
   "metadata": {},
   "outputs": [],
   "source": [
    "import sys\n",
    "sys.path.append('../')"
   ]
  },
  {
   "cell_type": "code",
   "execution_count": 3,
   "id": "9727b598-4378-4e7b-b2c1-b510bc3ce3f9",
   "metadata": {},
   "outputs": [],
   "source": [
    "import util.arquivo as HelperArquivo\n",
    "import pandas as pd\n",
    "import util.database as HelperDatabase\n",
    "from util.postgresql import PostgreSQL\n",
    "import util.general as HelperGeneral\n",
    "from datetime import datetime\n",
    "from util.config import postgre_config\n",
    "from consultas.associados.associados import AssociadosDDL"
   ]
  },
  {
   "cell_type": "code",
   "execution_count": 4,
   "id": "c86d208b",
   "metadata": {},
   "outputs": [],
   "source": [
    "HelperPostgre = PostgreSQL(postgre_config)\n",
    "TABLE_NAME = AssociadosDDL.table_name"
   ]
  },
  {
   "cell_type": "code",
   "execution_count": 5,
   "id": "051672ce",
   "metadata": {},
   "outputs": [],
   "source": [
    "def criar_stg():\n",
    "    print('             ' + datetime.now().strftime(\"%H:%M:%S\") + ' - ' + 'Criando tabela de staging')\n",
    "    HelperPostgre.create_staging_table(table_name=TABLE_NAME, ddl=AssociadosDDL.ddl_stg)"
   ]
  },
  {
   "cell_type": "code",
   "execution_count": 6,
   "id": "77267f9f",
   "metadata": {},
   "outputs": [],
   "source": [
    "def drop_stg():\n",
    "    print('             ' + datetime.now().strftime(\"%H:%M:%S\") + ' - ' + 'Dropando tabela de staging')\n",
    "    HelperPostgre.drop_table(table_name=TABLE_NAME, table_owner='stg')"
   ]
  },
  {
   "cell_type": "code",
   "execution_count": 7,
   "id": "d2374530",
   "metadata": {},
   "outputs": [],
   "source": [
    "def truncar_stg():\n",
    "    print('             ' + datetime.now().strftime(\"%H:%M:%S\") + ' - ' + 'Truncando tabela')\n",
    "    HelperPostgre.truncate_table(table_name=TABLE_NAME, table_owner='stg')"
   ]
  },
  {
   "cell_type": "code",
   "execution_count": 8,
   "id": "8322674e",
   "metadata": {},
   "outputs": [],
   "source": [
    "def deleta_existing_prd():\n",
    "    print('             ' + datetime.now().strftime(\"%H:%M:%S\") + ' - ' + 'Removendo registros existentes')\n",
    "    HelperPostgre.execute(str_consulta=AssociadosDDL.delete_prd_exists_stg)"
   ]
  },
  {
   "cell_type": "code",
   "execution_count": 9,
   "id": "49aadba0",
   "metadata": {},
   "outputs": [],
   "source": [
    "def merge():\n",
    "    print('             ' + datetime.now().strftime(\"%H:%M:%S\") + ' - ' + 'Merge de dados')\n",
    "    df = HelperPostgre.return_as_dataframe(str_consulta=AssociadosDDL.select_stg_arquivos, columns=['nom_arquivo'])\n",
    "    for _, r in df.iterrows():\n",
    "        HelperPostgre.execute(\n",
    "            AssociadosDDL.insert_prd.replace('@NOM_ARQUIVO', r['nom_arquivo'])\n",
    "        )"
   ]
  },
  {
   "cell_type": "code",
   "execution_count": 10,
   "id": "b937d69f",
   "metadata": {},
   "outputs": [],
   "source": [
    "def importar_arquivos_stg():\n",
    "\n",
    "    truncar_stg() \n",
    "\n",
    "    print('             ' + datetime.now().strftime(\"%H:%M:%S\") + ' - ' + 'Inserindo novos registros')\n",
    "\n",
    "    lst_files = []\n",
    "    str_file = '../csv/db_pessoa.associado*.csv'\n",
    "\n",
    "    lst_files += HelperArquivo.glob_to_list(str_file)\n",
    "\n",
    "    for arq in lst_files:\n",
    "        str_nome_arquivo = arq[0]\n",
    "        path = arq[1]\n",
    "\n",
    "        df = HelperArquivo.import_csv_to_dataframe(path)\n",
    "        df = df.rename(columns=df.iloc[0]).drop(df.index[0])\n",
    "        df.insert(0, 'nom_arquivo', str_nome_arquivo, True)\n",
    "        df['dat_associacao'] = pd.to_datetime(df['dat_associacao'], format='%d/%m/%Y')\n",
    "        df['cod_faixa_renda'] = df['cod_faixa_renda'].astype('int32')\n",
    "        \n",
    "        HelperPostgre.insert_list(\n",
    "            str_consulta = HelperDatabase.criar_insert(TABLE_NAME, 'stg', len(df.columns)),\n",
    "            obj_list = df.values.tolist()\n",
    "        )"
   ]
  },
  {
   "cell_type": "code",
   "execution_count": 11,
   "id": "4148d554",
   "metadata": {},
   "outputs": [
    {
     "name": "stdout",
     "output_type": "stream",
     "text": [
      "02/11/2023 14:43:27 - Importação de dados de associados - Início\n",
      "             14:43:27 - Criando tabela de staging\n",
      "             14:43:27 - Truncando tabela\n",
      "             14:43:27 - Inserindo novos registros\n",
      "             14:43:27 - Removendo registros existentes\n",
      "             14:43:27 - Merge de dados\n",
      "             14:43:27 - Dropando tabela de staging\n",
      "02/11/2023 14:43:27 - Importação de dados de associados - Fim\n"
     ]
    }
   ],
   "source": [
    "if __name__ == '__main__':\n",
    "    print(datetime.today().strftime(\"%d/%m/%Y %H:%M:%S\") + \" - Importação de dados de {} - Início\".format(TABLE_NAME))\n",
    "\n",
    "    criar_stg()\n",
    "\n",
    "    importar_arquivos_stg()\n",
    "\n",
    "    deleta_existing_prd()\n",
    "\n",
    "    merge()\n",
    "\n",
    "    drop_stg()\n",
    "\n",
    "    print(datetime.today().strftime(\"%d/%m/%Y %H:%M:%S\") + \" - Importação de dados de {} - Fim\".format(TABLE_NAME))"
   ]
  }
 ],
 "metadata": {
  "kernelspec": {
   "display_name": "Python 3 (ipykernel)",
   "language": "python",
   "name": "python3"
  },
  "language_info": {
   "codemirror_mode": {
    "name": "ipython",
    "version": 3
   },
   "file_extension": ".py",
   "mimetype": "text/x-python",
   "name": "python",
   "nbconvert_exporter": "python",
   "pygments_lexer": "ipython3",
   "version": "3.9.2"
  }
 },
 "nbformat": 4,
 "nbformat_minor": 5
}
