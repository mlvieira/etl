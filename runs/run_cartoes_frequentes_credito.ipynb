{
 "cells": [
  {
   "cell_type": "code",
   "execution_count": 1,
   "id": "6ec3943c",
   "metadata": {},
   "outputs": [
    {
     "name": "stdout",
     "output_type": "stream",
     "text": [
      "Requirement already satisfied: pandas in /home/mt/www/desafio_engenharia/src/lib/python3.9/site-packages (2.0.3)\n",
      "Requirement already satisfied: psycopg2 in /home/mt/www/desafio_engenharia/src/lib/python3.9/site-packages (2.9.9)\n",
      "Requirement already satisfied: pytz>=2020.1 in /home/mt/www/desafio_engenharia/src/lib/python3.9/site-packages (from pandas) (2023.3)\n",
      "Requirement already satisfied: numpy>=1.20.3 in /home/mt/www/desafio_engenharia/src/lib/python3.9/site-packages (from pandas) (1.25.2)\n",
      "Requirement already satisfied: python-dateutil>=2.8.2 in /home/mt/www/desafio_engenharia/src/lib/python3.9/site-packages (from pandas) (2.8.2)\n",
      "Requirement already satisfied: tzdata>=2022.1 in /home/mt/www/desafio_engenharia/src/lib/python3.9/site-packages (from pandas) (2023.3)\n",
      "Requirement already satisfied: six>=1.5 in /home/mt/www/desafio_engenharia/src/lib/python3.9/site-packages (from python-dateutil>=2.8.2->pandas) (1.16.0)\n",
      "Note: you may need to restart the kernel to use updated packages.\n"
     ]
    }
   ],
   "source": [
    "%pip install pandas psycopg2"
   ]
  },
  {
   "cell_type": "code",
   "execution_count": 2,
   "id": "9b9d3907",
   "metadata": {},
   "outputs": [],
   "source": [
    "import sys\n",
    "sys.path.append('../')"
   ]
  },
  {
   "cell_type": "code",
   "execution_count": 3,
   "id": "9727b598-4378-4e7b-b2c1-b510bc3ce3f9",
   "metadata": {},
   "outputs": [],
   "source": [
    "import util.arquivo as HelperArquivo\n",
    "import pandas as pd\n",
    "import util.database as HelperDatabase\n",
    "from util.postgresql import PostgreSQL\n",
    "import util.general as HelperGeneral\n",
    "from datetime import datetime\n",
    "from util.config import postgre_config\n",
    "from consultas.cartoes.transacoes_frequentes_credito import TransacaoCreditoDDL"
   ]
  },
  {
   "cell_type": "code",
   "execution_count": 4,
   "id": "f50797fe",
   "metadata": {},
   "outputs": [],
   "source": [
    "HelperPostgre = PostgreSQL(postgre_config)\n",
    "TABLE_NAME = TransacaoCreditoDDL.table_name"
   ]
  },
  {
   "cell_type": "code",
   "execution_count": 5,
   "id": "43ffa2c8",
   "metadata": {},
   "outputs": [],
   "source": [
    "def criar_stg():\n",
    "    print('             ' + datetime.now().strftime(\"%H:%M:%S\") + ' - ' + 'Criando stagning')\n",
    "    HelperPostgre.create_staging_table(table_name=TABLE_NAME, ddl=TransacaoCreditoDDL.ddl_stg)"
   ]
  },
  {
   "cell_type": "code",
   "execution_count": 6,
   "id": "3db36a3e",
   "metadata": {},
   "outputs": [],
   "source": [
    "def drop_stg():\n",
    "    print('             ' + datetime.now().strftime(\"%H:%M:%S\") + ' - ' + 'Dropando tabela de staging')\n",
    "    HelperPostgre.drop_table(table_name=TABLE_NAME, table_owner='stg')"
   ]
  },
  {
   "cell_type": "code",
   "execution_count": 7,
   "id": "f22408bf",
   "metadata": {},
   "outputs": [],
   "source": [
    "def purge_old():\n",
    "    print('             ' + datetime.now().strftime(\"%H:%M:%S\") + ' - ' + 'Removendo registros antigos')\n",
    "    HelperPostgre.execute(str_consulta=TransacaoCreditoDDL.purge_old_reg)"
   ]
  },
  {
   "cell_type": "code",
   "execution_count": 8,
   "id": "8de254cd",
   "metadata": {},
   "outputs": [],
   "source": [
    "def insert_prd():\n",
    "    print('             ' + datetime.now().strftime(\"%H:%M:%S\") + ' - ' + 'Inserindo novos registros')\n",
    "    HelperPostgre.execute(TransacaoCreditoDDL.insert_prd)"
   ]
  },
  {
   "cell_type": "code",
   "execution_count": 9,
   "id": "38851d4e",
   "metadata": {},
   "outputs": [
    {
     "name": "stdout",
     "output_type": "stream",
     "text": [
      "02/11/2023 14:44:35 - Importação de dados de associados_frequentes_credito - Início\n",
      "             14:44:35 - Criando stagning\n",
      "             14:44:35 - Inserindo novos registros\n",
      "             14:44:35 - Removendo registros antigos\n",
      "             14:44:35 - Dropando tabela de staging\n",
      "02/11/2023 14:44:35 - Importação de dados de associados_frequentes_credito - Fim\n"
     ]
    }
   ],
   "source": [
    "if __name__ == '__main__':\n",
    "    print(datetime.today().strftime(\"%d/%m/%Y %H:%M:%S\") + \" - Importação de dados de {} - Início\".format(TABLE_NAME))\n",
    "\n",
    "    criar_stg()\n",
    "\n",
    "    insert_prd() \n",
    "\n",
    "    purge_old()\n",
    "\n",
    "    drop_stg()\n",
    "\n",
    "    print(datetime.today().strftime(\"%d/%m/%Y %H:%M:%S\") + \" - Importação de dados de {} - Fim\".format(TABLE_NAME))"
   ]
  }
 ],
 "metadata": {
  "kernelspec": {
   "display_name": "Python 3 (ipykernel)",
   "language": "python",
   "name": "python3"
  },
  "language_info": {
   "codemirror_mode": {
    "name": "ipython",
    "version": 3
   },
   "file_extension": ".py",
   "mimetype": "text/x-python",
   "name": "python",
   "nbconvert_exporter": "python",
   "pygments_lexer": "ipython3",
   "version": "3.9.2"
  }
 },
 "nbformat": 4,
 "nbformat_minor": 5
}
